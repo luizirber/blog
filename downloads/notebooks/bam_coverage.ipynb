{
 "metadata": {
  "name": ""
 },
 "nbformat": 3,
 "nbformat_minor": 0,
 "worksheets": [
  {
   "cells": [
    {
     "cell_type": "markdown",
     "metadata": {},
     "source": [
      "Since last month I'm a PhD student in MSU at [Titus][6] [lab][7], and my\n",
      "research is focused on building infrastructure for exploring and\n",
      "merging multiple read types and multiples assemblies.\n",
      "\n",
      "Titus and all the labbies are awesome mentors, and I'm making some\n",
      "progress while learning how do deal with this brave new world.\n",
      "\n",
      "One thing I'm doing is checking how good is a _Gallus gallus_ Moleculo\n",
      "sequencing dataset we have, which is being used for the\n",
      "[chicken genome sequence improvement project][9]. The first question was:\n",
      "How many of Moleculo raw reads align to the reference genome, and how much is\n",
      "the coverage?\n",
      "\n",
      "To answer these questions we are using [bwa-mem][10] to do the alignments,\n",
      "[samtools][11] to work with the alignment data and a and a mix of Bash and\n",
      "Python scripts to glue everything together and do analysis.\n",
      "\n",
      "First, let's download the reference genome.\n",
      "\n",
      "[6]: http://ivory.idyll.org/blog/\n",
      "[7]: http://ged.msu.edu/\n",
      "[9]: http://ivory.idyll.org/blog/2013-posted-chick-improvement-grant.html\n",
      "[10]: http://arxiv.org/abs/1303.3997\n",
      "[11]: http://samtools.sourceforge.net/"
     ]
    },
    {
     "cell_type": "code",
     "collapsed": false,
     "input": [
      "!wget -c ftp://hgdownload.cse.ucsc.edu/goldenPath/galGal4/bigZips/galGal4.fa.masked.gz"
     ],
     "language": "python",
     "metadata": {},
     "outputs": []
    },
    {
     "cell_type": "markdown",
     "metadata": {},
     "source": [
      "With the reference genome available, we need to prepare it for the BWA algorithms by constructing its FM-index. The command to do this is"
     ]
    },
    {
     "cell_type": "code",
     "collapsed": false,
     "input": [
      "!bwa index galGal4.fa.masked.gz"
     ],
     "language": "python",
     "metadata": {},
     "outputs": []
    },
    {
     "cell_type": "markdown",
     "metadata": {},
     "source": [
      "SAMtools also require preprocessing of the original FASTA file:"
     ]
    },
    {
     "cell_type": "code",
     "collapsed": false,
     "input": [
      "!samtools faidx galGal4.fa.masked.gz"
     ],
     "language": "python",
     "metadata": {},
     "outputs": []
    },
    {
     "cell_type": "markdown",
     "metadata": {},
     "source": [
      "I had 10 files with Moleculo reads, varying from 500 bp to 16 Kbp. In this example let's assume all reads are in the same file, _reads.fastq_, but in the original analysis I ran the next commands inside a Bash for-loop.\n",
      "\n",
      "Let's align reference and reads using the BWA-MEM algorithm:"
     ]
    },
    {
     "cell_type": "code",
     "collapsed": false,
     "input": [
      "!bwa mem galGal4.fa.masked.gz reads.fastq > reads.fastq.sam"
     ],
     "language": "python",
     "metadata": {},
     "outputs": []
    },
    {
     "cell_type": "markdown",
     "metadata": {},
     "source": [
      "Next we are going to optimize the _reads.fastq.sam_ file, transforming it into the BAM format (a binary version of SAM). We also sort based on leftmost coordinates and index the file for faster access:"
     ]
    },
    {
     "cell_type": "code",
     "collapsed": false,
     "input": [
      "!samtools import galGal4.fa.masked.gz.fai reads.fastq.sam reads.fastq.bam\n",
      "!samtools sort reads.fastq.bam reads.fastq.sorted\n",
      "!samtools index reads.fastq.sorted.bam"
     ],
     "language": "python",
     "metadata": {},
     "outputs": []
    },
    {
     "cell_type": "markdown",
     "metadata": {},
     "source": [
      "We can query our alignments using the _view_ commands from samtools. How many reads didn't align with the reference?"
     ]
    },
    {
     "cell_type": "code",
     "collapsed": false,
     "input": [
      "!samtools view -c -f 4 reads.fastq.sorted.bam"
     ],
     "language": "python",
     "metadata": {},
     "outputs": []
    },
    {
     "cell_type": "markdown",
     "metadata": {},
     "source": [
      "In my case I got 7,985 reads that didn't align to the reference, from a total of 1,579,060 reads."
     ]
    },
    {
     "cell_type": "code",
     "collapsed": false,
     "input": [
      "!samtools view -c reads.fastq.sorted.bam"
     ],
     "language": "python",
     "metadata": {},
     "outputs": []
    },
    {
     "cell_type": "markdown",
     "metadata": {},
     "source": [
      "There were 4,411,380 possible alignments.\n",
      "\n",
      "But how good is the coverage of these alignments in the reference genome? To do this calculation I refactored [calc-blast-cover](https://github.com/ngs-docs/ngs-scripts/blob/master/blast/calc-blast-cover.py), resulting in [bam-coverage](https://github.com/luizirber/bioinfo/blob/master/bioinfo/bam_coverage.py). The idea is to create arrays initialized to zero with the size of the sequence for each sequence in the reference. We go over the alignments and set the array position to 1 if there is an alignment\n",
      "matching this position. After doing this we can calculate the coverage by summing the array and dividing by the sequence size.\n",
      "\n",
      "To make it easier to use I've started a new project (oh no! Another bioinformatics scripts collection!)\n",
      "with my modifications of the original script. This project is called [bioinfo][2] and it is available\n",
      "in [PyPI][3].\n",
      "Basic dependencies are just [docopt][4] (which is awesome, BTW) and\n",
      "[tqdm][5] (same). Additional dependencies are needed based on which command\n",
      "you intend to run. For example, bam_coverage needs [PySAM][12] and [screed][13]. At first\n",
      "this seems counter-intuitive, because the user need to explicitly install new\n",
      "packages, but this way avoids another problem: installing all the packages in\n",
      "the world just to run a subset of the program. I intend to give an informative\n",
      "message when the user try to run a command and dependencies are missing.\n",
      "\n",
      "If you've never used Python before, a good way to have a working environment is to use [Anaconda][14].\n",
      "\n",
      "[2]: https://github.com/luizirber/bioinfo\n",
      "[3]: https://pypi.python.org/pypi/bioinfo\n",
      "[4]: http://docopt.org\n",
      "[5]: https://github.com/noamraph/tqdm\n",
      "[6]: http://ivory.idyll.org/blog/\n",
      "[7]: http://ged.msu.edu/\n",
      "[8]: https://github.com/ngs-docs/ngs-scripts/blob/master/blast/calc-blast-cover.py\n",
      "[9]: http://ivory.idyll.org/blog/2013-posted-chick-improvement-grant.html\n",
      "[10]: http://arxiv.org/abs/1303.3997\n",
      "[11]: http://samtools.sourceforge.net/\n",
      "[12]: http://pysam.readthedocs.org/en/latest/\n",
      "[13]: http://screed.readthedocs.org/en/latest/\n",
      "[14]: http://continuum.io/downloads"
     ]
    },
    {
     "cell_type": "markdown",
     "metadata": {},
     "source": [
      "Since bioinfo is available in PyPI, you can install it with"
     ]
    },
    {
     "cell_type": "code",
     "collapsed": false,
     "input": [
      "!pip install bioinfo"
     ],
     "language": "python",
     "metadata": {},
     "outputs": []
    },
    {
     "cell_type": "markdown",
     "metadata": {},
     "source": [
      "To see available commands and options in bioinfo you can run"
     ]
    },
    {
     "cell_type": "code",
     "collapsed": false,
     "input": [
      "!bioinfo -h"
     ],
     "language": "python",
     "metadata": {},
     "outputs": []
    },
    {
     "cell_type": "markdown",
     "metadata": {},
     "source": [
      "Running the bam_coverage command over the alignment generated by BWA-MEM:"
     ]
    },
    {
     "cell_type": "code",
     "collapsed": false,
     "input": [
      "!bioinfo bam_coverage galGal4.fa.masked reads.fastq.sorted.bam 200 reads.fastq --mapq=30"
     ],
     "language": "python",
     "metadata": {},
     "outputs": []
    },
    {
     "cell_type": "markdown",
     "metadata": {},
     "source": [
      "The same command is available as a function in bioinfo and can be run inside a Python script:"
     ]
    },
    {
     "cell_type": "code",
     "collapsed": false,
     "input": [
      "from bioinfo import bam_coverage\n",
      "\n",
      "## same call, using the module.\n",
      "bam_coverage(\"galGal4.fa.masked\", \"reads.fastq.sorted.bam\", 200, \"reads.fastq\", 30)"
     ],
     "language": "python",
     "metadata": {},
     "outputs": []
    },
    {
     "cell_type": "markdown",
     "metadata": {},
     "source": [
      "If you don't want to install bioinfo (why not?!??!), you can just download bam-coverage:"
     ]
    },
    {
     "cell_type": "code",
     "collapsed": false,
     "input": [
      "!wget -c https://github.com/luizirber/bioinfo/blob/master/bioinfo/bam_coverage.py"
     ],
     "language": "python",
     "metadata": {},
     "outputs": []
    },
    {
     "cell_type": "markdown",
     "metadata": {},
     "source": [
      "And pass the options to the script:"
     ]
    },
    {
     "cell_type": "code",
     "collapsed": false,
     "input": [
      "!python bam_coverage.py galGal4.fa.masked reads.fastq.sorted.bam 200 reads.fastq 45"
     ],
     "language": "python",
     "metadata": {},
     "outputs": []
    },
    {
     "cell_type": "markdown",
     "metadata": {},
     "source": [
      "The result I got for my analysis was a 82.3% coverage of the reference genome by the alignments generated with BWA-MEM."
     ]
    },
    {
     "cell_type": "markdown",
     "metadata": {},
     "source": [
      "    reading query\n",
      "    1579060 [elapsed: 01:16, 20721.82 iters/sec]\n",
      "    creating empty lists\n",
      "    15932 [elapsed: 01:08, 232.67 iters/sec]\n",
      "    building coverage\n",
      "    4411380 [elapsed: 34:36, 2123.96 iters/sec]\n",
      "    Summing stats\n",
      "    |##########| 15932/15932 100% [elapsed: 00:07 left: 00:00, 2008.90 iters/sec]\n",
      "\n",
      "    total bases in reference: 1046932099\n",
      "    total ref bases covered : 861340070\n",
      "    fraction                : 0.822727730693\n",
      "    reference               : galGal4.fa.masked\n",
      "    alignment file          : ../moleculo/LR6000017-DNA_A01-LRAAA-AllReads.sorted.bam\n",
      "    query sequences         : ../moleculo/LR6000017-DNA_A01-LRAAA-AllReads.fastq"
     ]
    },
    {
     "cell_type": "markdown",
     "metadata": {},
     "source": [
      "This post was written entirely in the IPython notebook. You can [download](http://blog.luizirber.org/downloads/notebooks/bam_coverage.ipynb) this notebook, or see a static view [here](http://nbviewer.ipython.org/url/blog.luizirber.org/downloads/notebooks/bam_coverage.ipynb)."
     ]
    }
   ],
   "metadata": {}
  }
 ]
}
